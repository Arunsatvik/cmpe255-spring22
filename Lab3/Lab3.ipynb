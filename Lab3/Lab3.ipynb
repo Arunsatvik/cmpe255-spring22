{
  "cells": [
    {
      "cell_type": "markdown",
      "metadata": {
        "id": "view-in-github",
        "colab_type": "text"
      },
      "source": [
        "<a href=\"https://colab.research.google.com/github/Arunsatvik/cmpe255-spring22/blob/main/Lab3/Lab3.ipynb\" target=\"_parent\"><img src=\"https://colab.research.google.com/assets/colab-badge.svg\" alt=\"Open In Colab\"/></a>"
      ]
    },
    {
      "cell_type": "code",
      "execution_count": 26,
      "id": "236a5861",
      "metadata": {
        "execution": {
          "iopub.execute_input": "2022-04-12T00:02:15.532503Z",
          "iopub.status.busy": "2022-04-12T00:02:15.531783Z",
          "iopub.status.idle": "2022-04-12T00:02:17.248577Z",
          "shell.execute_reply": "2022-04-12T00:02:17.247835Z",
          "shell.execute_reply.started": "2022-04-11T23:59:27.049609Z"
        },
        "id": "236a5861",
        "papermill": {
          "duration": 1.750712,
          "end_time": "2022-04-12T00:02:17.248749",
          "exception": false,
          "start_time": "2022-04-12T00:02:15.498037",
          "status": "completed"
        },
        "tags": []
      },
      "outputs": [],
      "source": [
        "## importing all the packages \n",
        "\n",
        "import numpy as np\n",
        "import pandas as pd \n",
        "import matplotlib.pyplot as plt\n",
        "import seaborn as sns \n",
        "import io\n",
        "\n",
        "from sklearn.svm import SVC\n",
        "from sklearn.model_selection import train_test_split, GridSearchCV\n",
        "from sklearn.preprocessing import MinMaxScaler\n",
        "from sklearn.metrics import f1_score, classification_report, confusion_matrix, accuracy_score\n",
        "from imblearn.over_sampling import RandomOverSampler\n",
        "from sklearn.decomposition import PCA"
      ]
    },
    {
      "cell_type": "code",
      "execution_count": 27,
      "id": "00c92e10",
      "metadata": {
        "execution": {
          "iopub.execute_input": "2022-04-12T00:02:17.296633Z",
          "iopub.status.busy": "2022-04-12T00:02:17.295968Z",
          "iopub.status.idle": "2022-04-12T00:02:17.327274Z",
          "shell.execute_reply": "2022-04-12T00:02:17.327858Z",
          "shell.execute_reply.started": "2022-04-11T23:59:28.672098Z"
        },
        "id": "00c92e10",
        "papermill": {
          "duration": 0.05676,
          "end_time": "2022-04-12T00:02:17.328047",
          "exception": false,
          "start_time": "2022-04-12T00:02:17.271287",
          "status": "completed"
        },
        "tags": []
      },
      "outputs": [],
      "source": [
        "## importing dataset \n",
        "\n",
        "df = pd.read_csv(\"/content/fetal_health.csv\")"
      ]
    },
    {
      "cell_type": "code",
      "execution_count": 28,
      "id": "705ad886",
      "metadata": {
        "execution": {
          "iopub.execute_input": "2022-04-12T00:02:17.372778Z",
          "iopub.status.busy": "2022-04-12T00:02:17.372032Z",
          "iopub.status.idle": "2022-04-12T00:02:17.414612Z",
          "shell.execute_reply": "2022-04-12T00:02:17.415135Z",
          "shell.execute_reply.started": "2022-04-11T23:59:28.702977Z"
        },
        "id": "705ad886",
        "outputId": "902dd3ed-c601-4570-e2d5-4e9449f75261",
        "papermill": {
          "duration": 0.066082,
          "end_time": "2022-04-12T00:02:17.415313",
          "exception": false,
          "start_time": "2022-04-12T00:02:17.349231",
          "status": "completed"
        },
        "tags": [],
        "colab": {
          "base_uri": "https://localhost:8080/",
          "height": 317
        }
      },
      "outputs": [
        {
          "output_type": "execute_result",
          "data": {
            "text/plain": [
              "   baseline value  accelerations  fetal_movement  uterine_contractions  \\\n",
              "0           120.0          0.000             0.0                 0.000   \n",
              "1           132.0          0.006             0.0                 0.006   \n",
              "2           133.0          0.003             0.0                 0.008   \n",
              "3           134.0          0.003             0.0                 0.008   \n",
              "4           132.0          0.007             0.0                 0.008   \n",
              "\n",
              "   light_decelerations  severe_decelerations  prolongued_decelerations  \\\n",
              "0                0.000                   0.0                       0.0   \n",
              "1                0.003                   0.0                       0.0   \n",
              "2                0.003                   0.0                       0.0   \n",
              "3                0.003                   0.0                       0.0   \n",
              "4                0.000                   0.0                       0.0   \n",
              "\n",
              "   abnormal_short_term_variability  mean_value_of_short_term_variability  \\\n",
              "0                             73.0                                   0.5   \n",
              "1                             17.0                                   2.1   \n",
              "2                             16.0                                   2.1   \n",
              "3                             16.0                                   2.4   \n",
              "4                             16.0                                   2.4   \n",
              "\n",
              "   percentage_of_time_with_abnormal_long_term_variability  ...  histogram_min  \\\n",
              "0                                               43.0       ...           62.0   \n",
              "1                                                0.0       ...           68.0   \n",
              "2                                                0.0       ...           68.0   \n",
              "3                                                0.0       ...           53.0   \n",
              "4                                                0.0       ...           53.0   \n",
              "\n",
              "   histogram_max  histogram_number_of_peaks  histogram_number_of_zeroes  \\\n",
              "0          126.0                        2.0                         0.0   \n",
              "1          198.0                        6.0                         1.0   \n",
              "2          198.0                        5.0                         1.0   \n",
              "3          170.0                       11.0                         0.0   \n",
              "4          170.0                        9.0                         0.0   \n",
              "\n",
              "   histogram_mode  histogram_mean  histogram_median  histogram_variance  \\\n",
              "0           120.0           137.0             121.0                73.0   \n",
              "1           141.0           136.0             140.0                12.0   \n",
              "2           141.0           135.0             138.0                13.0   \n",
              "3           137.0           134.0             137.0                13.0   \n",
              "4           137.0           136.0             138.0                11.0   \n",
              "\n",
              "   histogram_tendency  fetal_health  \n",
              "0                 1.0           2.0  \n",
              "1                 0.0           1.0  \n",
              "2                 0.0           1.0  \n",
              "3                 1.0           1.0  \n",
              "4                 1.0           1.0  \n",
              "\n",
              "[5 rows x 22 columns]"
            ],
            "text/html": [
              "\n",
              "  <div id=\"df-0e928ee7-e4ac-415b-9228-2062c02b2398\">\n",
              "    <div class=\"colab-df-container\">\n",
              "      <div>\n",
              "<style scoped>\n",
              "    .dataframe tbody tr th:only-of-type {\n",
              "        vertical-align: middle;\n",
              "    }\n",
              "\n",
              "    .dataframe tbody tr th {\n",
              "        vertical-align: top;\n",
              "    }\n",
              "\n",
              "    .dataframe thead th {\n",
              "        text-align: right;\n",
              "    }\n",
              "</style>\n",
              "<table border=\"1\" class=\"dataframe\">\n",
              "  <thead>\n",
              "    <tr style=\"text-align: right;\">\n",
              "      <th></th>\n",
              "      <th>baseline value</th>\n",
              "      <th>accelerations</th>\n",
              "      <th>fetal_movement</th>\n",
              "      <th>uterine_contractions</th>\n",
              "      <th>light_decelerations</th>\n",
              "      <th>severe_decelerations</th>\n",
              "      <th>prolongued_decelerations</th>\n",
              "      <th>abnormal_short_term_variability</th>\n",
              "      <th>mean_value_of_short_term_variability</th>\n",
              "      <th>percentage_of_time_with_abnormal_long_term_variability</th>\n",
              "      <th>...</th>\n",
              "      <th>histogram_min</th>\n",
              "      <th>histogram_max</th>\n",
              "      <th>histogram_number_of_peaks</th>\n",
              "      <th>histogram_number_of_zeroes</th>\n",
              "      <th>histogram_mode</th>\n",
              "      <th>histogram_mean</th>\n",
              "      <th>histogram_median</th>\n",
              "      <th>histogram_variance</th>\n",
              "      <th>histogram_tendency</th>\n",
              "      <th>fetal_health</th>\n",
              "    </tr>\n",
              "  </thead>\n",
              "  <tbody>\n",
              "    <tr>\n",
              "      <th>0</th>\n",
              "      <td>120.0</td>\n",
              "      <td>0.000</td>\n",
              "      <td>0.0</td>\n",
              "      <td>0.000</td>\n",
              "      <td>0.000</td>\n",
              "      <td>0.0</td>\n",
              "      <td>0.0</td>\n",
              "      <td>73.0</td>\n",
              "      <td>0.5</td>\n",
              "      <td>43.0</td>\n",
              "      <td>...</td>\n",
              "      <td>62.0</td>\n",
              "      <td>126.0</td>\n",
              "      <td>2.0</td>\n",
              "      <td>0.0</td>\n",
              "      <td>120.0</td>\n",
              "      <td>137.0</td>\n",
              "      <td>121.0</td>\n",
              "      <td>73.0</td>\n",
              "      <td>1.0</td>\n",
              "      <td>2.0</td>\n",
              "    </tr>\n",
              "    <tr>\n",
              "      <th>1</th>\n",
              "      <td>132.0</td>\n",
              "      <td>0.006</td>\n",
              "      <td>0.0</td>\n",
              "      <td>0.006</td>\n",
              "      <td>0.003</td>\n",
              "      <td>0.0</td>\n",
              "      <td>0.0</td>\n",
              "      <td>17.0</td>\n",
              "      <td>2.1</td>\n",
              "      <td>0.0</td>\n",
              "      <td>...</td>\n",
              "      <td>68.0</td>\n",
              "      <td>198.0</td>\n",
              "      <td>6.0</td>\n",
              "      <td>1.0</td>\n",
              "      <td>141.0</td>\n",
              "      <td>136.0</td>\n",
              "      <td>140.0</td>\n",
              "      <td>12.0</td>\n",
              "      <td>0.0</td>\n",
              "      <td>1.0</td>\n",
              "    </tr>\n",
              "    <tr>\n",
              "      <th>2</th>\n",
              "      <td>133.0</td>\n",
              "      <td>0.003</td>\n",
              "      <td>0.0</td>\n",
              "      <td>0.008</td>\n",
              "      <td>0.003</td>\n",
              "      <td>0.0</td>\n",
              "      <td>0.0</td>\n",
              "      <td>16.0</td>\n",
              "      <td>2.1</td>\n",
              "      <td>0.0</td>\n",
              "      <td>...</td>\n",
              "      <td>68.0</td>\n",
              "      <td>198.0</td>\n",
              "      <td>5.0</td>\n",
              "      <td>1.0</td>\n",
              "      <td>141.0</td>\n",
              "      <td>135.0</td>\n",
              "      <td>138.0</td>\n",
              "      <td>13.0</td>\n",
              "      <td>0.0</td>\n",
              "      <td>1.0</td>\n",
              "    </tr>\n",
              "    <tr>\n",
              "      <th>3</th>\n",
              "      <td>134.0</td>\n",
              "      <td>0.003</td>\n",
              "      <td>0.0</td>\n",
              "      <td>0.008</td>\n",
              "      <td>0.003</td>\n",
              "      <td>0.0</td>\n",
              "      <td>0.0</td>\n",
              "      <td>16.0</td>\n",
              "      <td>2.4</td>\n",
              "      <td>0.0</td>\n",
              "      <td>...</td>\n",
              "      <td>53.0</td>\n",
              "      <td>170.0</td>\n",
              "      <td>11.0</td>\n",
              "      <td>0.0</td>\n",
              "      <td>137.0</td>\n",
              "      <td>134.0</td>\n",
              "      <td>137.0</td>\n",
              "      <td>13.0</td>\n",
              "      <td>1.0</td>\n",
              "      <td>1.0</td>\n",
              "    </tr>\n",
              "    <tr>\n",
              "      <th>4</th>\n",
              "      <td>132.0</td>\n",
              "      <td>0.007</td>\n",
              "      <td>0.0</td>\n",
              "      <td>0.008</td>\n",
              "      <td>0.000</td>\n",
              "      <td>0.0</td>\n",
              "      <td>0.0</td>\n",
              "      <td>16.0</td>\n",
              "      <td>2.4</td>\n",
              "      <td>0.0</td>\n",
              "      <td>...</td>\n",
              "      <td>53.0</td>\n",
              "      <td>170.0</td>\n",
              "      <td>9.0</td>\n",
              "      <td>0.0</td>\n",
              "      <td>137.0</td>\n",
              "      <td>136.0</td>\n",
              "      <td>138.0</td>\n",
              "      <td>11.0</td>\n",
              "      <td>1.0</td>\n",
              "      <td>1.0</td>\n",
              "    </tr>\n",
              "  </tbody>\n",
              "</table>\n",
              "<p>5 rows × 22 columns</p>\n",
              "</div>\n",
              "      <button class=\"colab-df-convert\" onclick=\"convertToInteractive('df-0e928ee7-e4ac-415b-9228-2062c02b2398')\"\n",
              "              title=\"Convert this dataframe to an interactive table.\"\n",
              "              style=\"display:none;\">\n",
              "        \n",
              "  <svg xmlns=\"http://www.w3.org/2000/svg\" height=\"24px\"viewBox=\"0 0 24 24\"\n",
              "       width=\"24px\">\n",
              "    <path d=\"M0 0h24v24H0V0z\" fill=\"none\"/>\n",
              "    <path d=\"M18.56 5.44l.94 2.06.94-2.06 2.06-.94-2.06-.94-.94-2.06-.94 2.06-2.06.94zm-11 1L8.5 8.5l.94-2.06 2.06-.94-2.06-.94L8.5 2.5l-.94 2.06-2.06.94zm10 10l.94 2.06.94-2.06 2.06-.94-2.06-.94-.94-2.06-.94 2.06-2.06.94z\"/><path d=\"M17.41 7.96l-1.37-1.37c-.4-.4-.92-.59-1.43-.59-.52 0-1.04.2-1.43.59L10.3 9.45l-7.72 7.72c-.78.78-.78 2.05 0 2.83L4 21.41c.39.39.9.59 1.41.59.51 0 1.02-.2 1.41-.59l7.78-7.78 2.81-2.81c.8-.78.8-2.07 0-2.86zM5.41 20L4 18.59l7.72-7.72 1.47 1.35L5.41 20z\"/>\n",
              "  </svg>\n",
              "      </button>\n",
              "      \n",
              "  <style>\n",
              "    .colab-df-container {\n",
              "      display:flex;\n",
              "      flex-wrap:wrap;\n",
              "      gap: 12px;\n",
              "    }\n",
              "\n",
              "    .colab-df-convert {\n",
              "      background-color: #E8F0FE;\n",
              "      border: none;\n",
              "      border-radius: 50%;\n",
              "      cursor: pointer;\n",
              "      display: none;\n",
              "      fill: #1967D2;\n",
              "      height: 32px;\n",
              "      padding: 0 0 0 0;\n",
              "      width: 32px;\n",
              "    }\n",
              "\n",
              "    .colab-df-convert:hover {\n",
              "      background-color: #E2EBFA;\n",
              "      box-shadow: 0px 1px 2px rgba(60, 64, 67, 0.3), 0px 1px 3px 1px rgba(60, 64, 67, 0.15);\n",
              "      fill: #174EA6;\n",
              "    }\n",
              "\n",
              "    [theme=dark] .colab-df-convert {\n",
              "      background-color: #3B4455;\n",
              "      fill: #D2E3FC;\n",
              "    }\n",
              "\n",
              "    [theme=dark] .colab-df-convert:hover {\n",
              "      background-color: #434B5C;\n",
              "      box-shadow: 0px 1px 3px 1px rgba(0, 0, 0, 0.15);\n",
              "      filter: drop-shadow(0px 1px 2px rgba(0, 0, 0, 0.3));\n",
              "      fill: #FFFFFF;\n",
              "    }\n",
              "  </style>\n",
              "\n",
              "      <script>\n",
              "        const buttonEl =\n",
              "          document.querySelector('#df-0e928ee7-e4ac-415b-9228-2062c02b2398 button.colab-df-convert');\n",
              "        buttonEl.style.display =\n",
              "          google.colab.kernel.accessAllowed ? 'block' : 'none';\n",
              "\n",
              "        async function convertToInteractive(key) {\n",
              "          const element = document.querySelector('#df-0e928ee7-e4ac-415b-9228-2062c02b2398');\n",
              "          const dataTable =\n",
              "            await google.colab.kernel.invokeFunction('convertToInteractive',\n",
              "                                                     [key], {});\n",
              "          if (!dataTable) return;\n",
              "\n",
              "          const docLinkHtml = 'Like what you see? Visit the ' +\n",
              "            '<a target=\"_blank\" href=https://colab.research.google.com/notebooks/data_table.ipynb>data table notebook</a>'\n",
              "            + ' to learn more about interactive tables.';\n",
              "          element.innerHTML = '';\n",
              "          dataTable['output_type'] = 'display_data';\n",
              "          await google.colab.output.renderOutput(dataTable, element);\n",
              "          const docLink = document.createElement('div');\n",
              "          docLink.innerHTML = docLinkHtml;\n",
              "          element.appendChild(docLink);\n",
              "        }\n",
              "      </script>\n",
              "    </div>\n",
              "  </div>\n",
              "  "
            ]
          },
          "metadata": {},
          "execution_count": 28
        }
      ],
      "source": [
        "df.head()"
      ]
    },
    {
      "cell_type": "code",
      "execution_count": 29,
      "id": "40410f57",
      "metadata": {
        "execution": {
          "iopub.execute_input": "2022-04-12T00:02:17.461505Z",
          "iopub.status.busy": "2022-04-12T00:02:17.460788Z",
          "iopub.status.idle": "2022-04-12T00:02:17.465505Z",
          "shell.execute_reply": "2022-04-12T00:02:17.466152Z",
          "shell.execute_reply.started": "2022-04-11T23:59:28.748009Z"
        },
        "id": "40410f57",
        "outputId": "81b8743b-fa03-4b7a-b493-59f367809faa",
        "papermill": {
          "duration": 0.029694,
          "end_time": "2022-04-12T00:02:17.466331",
          "exception": false,
          "start_time": "2022-04-12T00:02:17.436637",
          "status": "completed"
        },
        "tags": [],
        "colab": {
          "base_uri": "https://localhost:8080/"
        }
      },
      "outputs": [
        {
          "output_type": "execute_result",
          "data": {
            "text/plain": [
              "(2126, 22)"
            ]
          },
          "metadata": {},
          "execution_count": 29
        }
      ],
      "source": [
        "## shape of the dataset\n",
        "df.shape"
      ]
    },
    {
      "cell_type": "code",
      "execution_count": 30,
      "id": "e7aa6162",
      "metadata": {
        "execution": {
          "iopub.execute_input": "2022-04-12T00:02:17.511949Z",
          "iopub.status.busy": "2022-04-12T00:02:17.511268Z",
          "iopub.status.idle": "2022-04-12T00:02:17.518567Z",
          "shell.execute_reply": "2022-04-12T00:02:17.519085Z",
          "shell.execute_reply.started": "2022-04-11T23:59:28.757038Z"
        },
        "id": "e7aa6162",
        "outputId": "63a76fcf-b60c-4f5c-c4df-8aa3f66f397b",
        "papermill": {
          "duration": 0.031831,
          "end_time": "2022-04-12T00:02:17.519267",
          "exception": false,
          "start_time": "2022-04-12T00:02:17.487436",
          "status": "completed"
        },
        "tags": [],
        "colab": {
          "base_uri": "https://localhost:8080/"
        }
      },
      "outputs": [
        {
          "output_type": "execute_result",
          "data": {
            "text/plain": [
              "baseline value                                            0\n",
              "accelerations                                             0\n",
              "fetal_movement                                            0\n",
              "uterine_contractions                                      0\n",
              "light_decelerations                                       0\n",
              "severe_decelerations                                      0\n",
              "prolongued_decelerations                                  0\n",
              "abnormal_short_term_variability                           0\n",
              "mean_value_of_short_term_variability                      0\n",
              "percentage_of_time_with_abnormal_long_term_variability    0\n",
              "mean_value_of_long_term_variability                       0\n",
              "histogram_width                                           0\n",
              "histogram_min                                             0\n",
              "histogram_max                                             0\n",
              "histogram_number_of_peaks                                 0\n",
              "histogram_number_of_zeroes                                0\n",
              "histogram_mode                                            0\n",
              "histogram_mean                                            0\n",
              "histogram_median                                          0\n",
              "histogram_variance                                        0\n",
              "histogram_tendency                                        0\n",
              "fetal_health                                              0\n",
              "dtype: int64"
            ]
          },
          "metadata": {},
          "execution_count": 30
        }
      ],
      "source": [
        "## checking for null values \n",
        "\n",
        "df.isna().sum()"
      ]
    },
    {
      "cell_type": "code",
      "execution_count": 31,
      "id": "d430f3b1",
      "metadata": {
        "execution": {
          "iopub.execute_input": "2022-04-12T00:02:17.565416Z",
          "iopub.status.busy": "2022-04-12T00:02:17.564619Z",
          "iopub.status.idle": "2022-04-12T00:02:17.805688Z",
          "shell.execute_reply": "2022-04-12T00:02:17.805043Z",
          "shell.execute_reply.started": "2022-04-11T23:59:28.772050Z"
        },
        "id": "d430f3b1",
        "outputId": "17756790-eddc-4361-d986-9fd1196a6780",
        "papermill": {
          "duration": 0.265151,
          "end_time": "2022-04-12T00:02:17.805863",
          "exception": false,
          "start_time": "2022-04-12T00:02:17.540712",
          "status": "completed"
        },
        "tags": [],
        "colab": {
          "base_uri": "https://localhost:8080/",
          "height": 298
        }
      },
      "outputs": [
        {
          "output_type": "execute_result",
          "data": {
            "text/plain": [
              "<matplotlib.axes._subplots.AxesSubplot at 0x7fc8a688c690>"
            ]
          },
          "metadata": {},
          "execution_count": 31
        },
        {
          "output_type": "display_data",
          "data": {
            "text/plain": [
              "<Figure size 432x288 with 1 Axes>"
            ],
            "image/png": "[encoded data removed]"
          },
          "metadata": {
            "needs_background": "light"
          }
        }
      ],
      "source": [
        "## distribution of target varaibles \n",
        "sns.countplot(x = 'fetal_health' ,data = df)"
      ]
    },
    {
      "cell_type": "code",
      "execution_count": 32,
      "id": "ab0381f1",
      "metadata": {
        "execution": {
          "iopub.execute_input": "2022-04-12T00:02:17.856323Z",
          "iopub.status.busy": "2022-04-12T00:02:17.855557Z",
          "iopub.status.idle": "2022-04-12T00:02:17.869933Z",
          "shell.execute_reply": "2022-04-12T00:02:17.870567Z",
          "shell.execute_reply.started": "2022-04-11T23:59:28.999800Z"
        },
        "id": "ab0381f1",
        "papermill": {
          "duration": 0.041556,
          "end_time": "2022-04-12T00:02:17.870754",
          "exception": false,
          "start_time": "2022-04-12T00:02:17.829198",
          "status": "completed"
        },
        "tags": []
      },
      "outputs": [],
      "source": [
        "###OverSampling -- balancing target values \n",
        "\n",
        "over = RandomOverSampler()\n",
        "\n",
        "X, Y = df.iloc[:,:-1], df['fetal_health']\n",
        "\n",
        "X,Y = over.fit_resample(X,Y)"
      ]
    },
    {
      "cell_type": "code",
      "execution_count": 33,
      "id": "ece1f003",
      "metadata": {
        "execution": {
          "iopub.execute_input": "2022-04-12T00:02:17.920218Z",
          "iopub.status.busy": "2022-04-12T00:02:17.919512Z",
          "iopub.status.idle": "2022-04-12T00:02:17.991894Z",
          "shell.execute_reply": "2022-04-12T00:02:17.990862Z",
          "shell.execute_reply.started": "2022-04-11T23:59:29.019037Z"
        },
        "id": "ece1f003",
        "papermill": {
          "duration": 0.098357,
          "end_time": "2022-04-12T00:02:17.992135",
          "exception": false,
          "start_time": "2022-04-12T00:02:17.893778",
          "status": "completed"
        },
        "tags": []
      },
      "outputs": [],
      "source": [
        "## reducing the dimensions to 2 \n",
        "\n",
        "pca = PCA(n_components=2)\n",
        "\n",
        "X = pd.DataFrame(pca.fit_transform(X))\n"
      ]
    },
    {
      "cell_type": "code",
      "execution_count": 34,
      "id": "bfd393c8",
      "metadata": {
        "execution": {
          "iopub.execute_input": "2022-04-12T00:02:18.120585Z",
          "iopub.status.busy": "2022-04-12T00:02:18.119942Z",
          "iopub.status.idle": "2022-04-12T00:02:18.125789Z",
          "shell.execute_reply": "2022-04-12T00:02:18.126338Z",
          "shell.execute_reply.started": "2022-04-11T23:59:29.149667Z"
        },
        "id": "bfd393c8",
        "outputId": "3848f4be-aa5a-48d3-b9a0-92665f76f9ab",
        "papermill": {
          "duration": 0.060501,
          "end_time": "2022-04-12T00:02:18.126508",
          "exception": false,
          "start_time": "2022-04-12T00:02:18.066007",
          "status": "completed"
        },
        "tags": [],
        "colab": {
          "base_uri": "https://localhost:8080/"
        }
      },
      "outputs": [
        {
          "output_type": "execute_result",
          "data": {
            "text/plain": [
              "2.0    1655\n",
              "1.0    1655\n",
              "3.0    1655\n",
              "Name: fetal_health, dtype: int64"
            ]
          },
          "metadata": {},
          "execution_count": 34
        }
      ],
      "source": [
        "Y.value_counts()"
      ]
    },
    {
      "cell_type": "code",
      "execution_count": 35,
      "id": "19e133dc",
      "metadata": {
        "execution": {
          "iopub.execute_input": "2022-04-12T00:02:18.177105Z",
          "iopub.status.busy": "2022-04-12T00:02:18.176413Z",
          "iopub.status.idle": "2022-04-12T00:02:18.185108Z",
          "shell.execute_reply": "2022-04-12T00:02:18.184404Z",
          "shell.execute_reply.started": "2022-04-11T23:59:29.198665Z"
        },
        "id": "19e133dc",
        "papermill": {
          "duration": 0.034914,
          "end_time": "2022-04-12T00:02:18.185257",
          "exception": false,
          "start_time": "2022-04-12T00:02:18.150343",
          "status": "completed"
        },
        "tags": []
      },
      "outputs": [],
      "source": [
        "## code for plotting the decision boundary \n",
        "\n",
        "def make_meshgrid(x, y, h=.02):\n",
        "    x_min, x_max = x.min() - 1, x.max() + 1\n",
        "    y_min, y_max = y.min() - 1, y.max() + 1\n",
        "    xx, yy = np.meshgrid(np.arange(x_min, x_max, h), np.arange(y_min, y_max, h))\n",
        "    return xx, yy\n",
        "\n",
        "def plot_contours(ax, clf, xx, yy, **params):\n",
        "    Z = clf.predict(np.c_[xx.ravel(), yy.ravel()])\n",
        "    Z = Z.reshape(xx.shape)\n",
        "    out = ax.contourf(xx, yy, Z, **params)\n",
        "    return out"
      ]
    },
    {
      "cell_type": "markdown",
      "id": "470b8875",
      "metadata": {
        "id": "470b8875",
        "papermill": {
          "duration": 0.022981,
          "end_time": "2022-04-12T00:02:18.231859",
          "exception": false,
          "start_time": "2022-04-12T00:02:18.208878",
          "status": "completed"
        },
        "tags": []
      },
      "source": [
        "## training model with C = 0.1\n"
      ]
    },
    {
      "cell_type": "code",
      "execution_count": 36,
      "id": "6442c0e2",
      "metadata": {
        "execution": {
          "iopub.execute_input": "2022-04-12T00:02:18.290744Z",
          "iopub.status.busy": "2022-04-12T00:02:18.290079Z",
          "iopub.status.idle": "2022-04-12T00:02:19.057976Z",
          "shell.execute_reply": "2022-04-12T00:02:19.058578Z",
          "shell.execute_reply.started": "2022-04-11T23:59:29.225079Z"
        },
        "id": "6442c0e2",
        "outputId": "5c7bf4af-e266-4df4-8064-5fe338174a19",
        "papermill": {
          "duration": 0.803478,
          "end_time": "2022-04-12T00:02:19.058763",
          "exception": false,
          "start_time": "2022-04-12T00:02:18.255285",
          "status": "completed"
        },
        "tags": [],
        "colab": {
          "base_uri": "https://localhost:8080/"
        }
      },
      "outputs": [
        {
          "output_type": "stream",
          "name": "stdout",
          "text": [
            "accuracy: 0.6193353474320241\n",
            "\n",
            "confusion_matrix: [[686 511 109]\n",
            " [341 935  60]\n",
            " [135 356 839]]\n",
            "\n",
            "classification_report:\n",
            "               precision    recall  f1-score   support\n",
            "\n",
            "         1.0       0.59      0.53      0.56      1306\n",
            "         2.0       0.52      0.70      0.60      1336\n",
            "         3.0       0.83      0.63      0.72      1330\n",
            "\n",
            "    accuracy                           0.62      3972\n",
            "   macro avg       0.65      0.62      0.62      3972\n",
            "weighted avg       0.65      0.62      0.62      3972\n",
            "\n",
            "\n",
            "accuracy: 0.62134944612286\n",
            "\n",
            "confusion_matrix:\n",
            " [[187 139  23]\n",
            " [ 76 234   9]\n",
            " [ 35  94 196]]\n",
            "\n",
            "classification_report:\n",
            "               precision    recall  f1-score   support\n",
            "\n",
            "         1.0       0.63      0.54      0.58       349\n",
            "         2.0       0.50      0.73      0.60       319\n",
            "         3.0       0.86      0.60      0.71       325\n",
            "\n",
            "    accuracy                           0.62       993\n",
            "   macro avg       0.66      0.62      0.63       993\n",
            "weighted avg       0.66      0.62      0.63       993\n",
            "\n"
          ]
        }
      ],
      "source": [
        "x_train, x_test, y_train, y_test = train_test_split(X,Y, test_size=0.2)\n",
        "\n",
        "scaler = MinMaxScaler()\n",
        "x_train = scaler.fit_transform(x_train)\n",
        "x_test = scaler.transform(x_test)\n",
        "\n",
        "\n",
        "svc1 = SVC(C = 0.1, kernel='linear')\n",
        "\n",
        "svc1.fit(x_train, y_train)\n",
        "\n",
        "y_pred_train1 = svc1.predict(x_train)\n",
        "print('accuracy:', accuracy_score(y_train,y_pred_train1))\n",
        "print('\\nconfusion_matrix:' , confusion_matrix(y_train,y_pred_train1))\n",
        "print('\\nclassification_report:\\n' , classification_report(y_train,y_pred_train1))\n",
        "\n",
        "y_pred_test1 = svc1.predict(x_test)\n",
        "print('\\naccuracy:', accuracy_score(y_test,y_pred_test1))\n",
        "print('\\nconfusion_matrix:\\n' , confusion_matrix(y_test,y_pred_test1))\n",
        "print('\\nclassification_report:\\n' , classification_report(y_test,y_pred_test1))"
      ]
    },
    {
      "cell_type": "code",
      "execution_count": 37,
      "id": "f1f63bd7",
      "metadata": {
        "execution": {
          "iopub.execute_input": "2022-04-12T00:02:19.131033Z",
          "iopub.status.busy": "2022-04-12T00:02:19.116340Z",
          "iopub.status.idle": "2022-04-12T00:02:20.881841Z",
          "shell.execute_reply": "2022-04-12T00:02:20.882363Z",
          "shell.execute_reply.started": "2022-04-11T23:59:30.037267Z"
        },
        "id": "f1f63bd7",
        "outputId": "77e962c7-dba9-48cf-c8a7-c73c8489c8ef",
        "papermill": {
          "duration": 1.799862,
          "end_time": "2022-04-12T00:02:20.882539",
          "exception": false,
          "start_time": "2022-04-12T00:02:19.082677",
          "status": "completed"
        },
        "tags": [],
        "colab": {
          "base_uri": "https://localhost:8080/",
          "height": 351
        }
      },
      "outputs": [
        {
          "output_type": "stream",
          "name": "stderr",
          "text": [
            "No handles with labels found to put in legend.\n"
          ]
        },
        {
          "output_type": "display_data",
          "data": {
            "text/plain": [
              "<Figure size 504x360 with 1 Axes>"
            ],
            "image/png": "[encoded data removed]"
          },
          "metadata": {}
        }
      ],
      "source": [
        "X1 = scaler.fit_transform(X)\n",
        "\n",
        "fig, ax = plt.subplots(figsize=(7,5))\n",
        "# title for the plots\n",
        "title = ('Decision surface of linear SVC with C = 0.1')\n",
        "# Set-up grid for plotting.\n",
        "X0, X1 = X1[:, 0], X1[:, 1]\n",
        "xx, yy = make_meshgrid(X0, X1)\n",
        "\n",
        "plot_contours(ax, svc1, xx, yy, cmap=plt.cm.coolwarm, alpha=0.8)\n",
        "ax.scatter(X0, X1, c=Y, cmap=plt.cm.coolwarm, s=20, edgecolors='k')\n",
        "ax.set_ylabel('y label here')\n",
        "ax.set_xlabel('x label here')\n",
        "ax.set_xticks(())\n",
        "ax.set_yticks(())\n",
        "ax.set_title(title)\n",
        "ax.legend()\n",
        "plt.show()"
      ]
    },
    {
      "cell_type": "markdown",
      "id": "c0e5c07a",
      "metadata": {
        "id": "c0e5c07a",
        "papermill": {
          "duration": 0.025793,
          "end_time": "2022-04-12T00:02:20.935152",
          "exception": false,
          "start_time": "2022-04-12T00:02:20.909359",
          "status": "completed"
        },
        "tags": []
      },
      "source": [
        "## training model with C = 1"
      ]
    },
    {
      "cell_type": "code",
      "execution_count": 38,
      "id": "9e420fba",
      "metadata": {
        "execution": {
          "iopub.execute_input": "2022-04-12T00:02:20.990182Z",
          "iopub.status.busy": "2022-04-12T00:02:20.989209Z",
          "iopub.status.idle": "2022-04-12T00:02:21.735054Z",
          "shell.execute_reply": "2022-04-12T00:02:21.733955Z",
          "shell.execute_reply.started": "2022-04-11T23:59:31.939100Z"
        },
        "id": "9e420fba",
        "outputId": "718ad792-1f3b-4502-9b07-0936f63e3169",
        "papermill": {
          "duration": 0.774584,
          "end_time": "2022-04-12T00:02:21.735277",
          "exception": false,
          "start_time": "2022-04-12T00:02:20.960693",
          "status": "completed"
        },
        "tags": [],
        "colab": {
          "base_uri": "https://localhost:8080/"
        }
      },
      "outputs": [
        {
          "output_type": "stream",
          "name": "stdout",
          "text": [
            "accuracy: 0.6633937562940584\n",
            "confusion_matrix:\n",
            " [[404 615 335]\n",
            " [389 606 316]\n",
            " [369 581 357]]\n",
            "\n",
            "accuracy: 0.6807653575025177\n",
            "confusion_matrix:\n",
            " [[ 87 152  62]\n",
            " [108 154  82]\n",
            " [103 161  84]]\n"
          ]
        }
      ],
      "source": [
        "x_train, x_test, y_train, y_test = train_test_split(X,Y, test_size=0.2)\n",
        "\n",
        "scaler = MinMaxScaler()\n",
        "x_train = scaler.fit_transform(x_train)\n",
        "x_test = scaler.transform(x_test)\n",
        "\n",
        "\n",
        "svc2 = SVC(C = 1, kernel = 'linear')\n",
        "\n",
        "svc2.fit(x_train, y_train)\n",
        "\n",
        "y_pred_train2 = svc2.predict(x_train)\n",
        "print('accuracy:', accuracy_score(y_train,y_pred_train2))\n",
        "print('confusion_matrix:\\n' , confusion_matrix(y_train,y_pred_train1))\n",
        "\n",
        "y_pred_test2 = svc2.predict(x_test)\n",
        "print('\\naccuracy:', accuracy_score(y_test,y_pred_test2))\n",
        "print('confusion_matrix:\\n' , confusion_matrix(y_test,y_pred_test1))"
      ]
    },
    {
      "cell_type": "code",
      "execution_count": 39,
      "id": "25475b8c",
      "metadata": {
        "execution": {
          "iopub.execute_input": "2022-04-12T00:02:21.796467Z",
          "iopub.status.busy": "2022-04-12T00:02:21.795627Z",
          "iopub.status.idle": "2022-04-12T00:02:23.588248Z",
          "shell.execute_reply": "2022-04-12T00:02:23.588739Z",
          "shell.execute_reply.started": "2022-04-11T23:59:32.658724Z"
        },
        "id": "25475b8c",
        "outputId": "13b3ba90-8f33-4a58-97a0-79fdc17ddf66",
        "papermill": {
          "duration": 1.827902,
          "end_time": "2022-04-12T00:02:23.588927",
          "exception": false,
          "start_time": "2022-04-12T00:02:21.761025",
          "status": "completed"
        },
        "tags": [],
        "colab": {
          "base_uri": "https://localhost:8080/",
          "height": 296
        }
      },
      "outputs": [
        {
          "output_type": "stream",
          "name": "stderr",
          "text": [
            "No handles with labels found to put in legend.\n"
          ]
        },
        {
          "output_type": "display_data",
          "data": {
            "text/plain": [
              "<Figure size 432x288 with 1 Axes>"
            ],
            "image/png": "[encoded data removed]"
          },
          "metadata": {}
        }
      ],
      "source": [
        "X1 = scaler.fit_transform(X)\n",
        "\n",
        "fig, ax = plt.subplots()\n",
        "# title for the plots\n",
        "title = ('Decision surface of linear SVC with C = 1')\n",
        "# Set-up grid for plotting.\n",
        "X0, X1 = X1[:, 0], X1[:, 1]\n",
        "xx, yy = make_meshgrid(X0, X1)\n",
        "\n",
        "plot_contours(ax, svc2, xx, yy, cmap=plt.cm.coolwarm, alpha=0.8)\n",
        "ax.scatter(X0, X1, c=Y, cmap=plt.cm.coolwarm, s=20, edgecolors='k')\n",
        "ax.set_ylabel('y label here')\n",
        "ax.set_xlabel('x label here')\n",
        "ax.set_xticks(())\n",
        "ax.set_yticks(())\n",
        "ax.set_title(title)\n",
        "ax.legend()\n",
        "plt.show()"
      ]
    },
    {
      "cell_type": "markdown",
      "id": "c937f2fb",
      "metadata": {
        "id": "c937f2fb",
        "papermill": {
          "duration": 0.026582,
          "end_time": "2022-04-12T00:02:23.642130",
          "exception": false,
          "start_time": "2022-04-12T00:02:23.615548",
          "status": "completed"
        },
        "tags": []
      },
      "source": [
        "## training model with C = 10"
      ]
    },
    {
      "cell_type": "code",
      "execution_count": 40,
      "id": "3b565a80",
      "metadata": {
        "execution": {
          "iopub.execute_input": "2022-04-12T00:02:23.700308Z",
          "iopub.status.busy": "2022-04-12T00:02:23.699315Z",
          "iopub.status.idle": "2022-04-12T00:02:24.635414Z",
          "shell.execute_reply": "2022-04-12T00:02:24.635985Z",
          "shell.execute_reply.started": "2022-04-11T23:59:34.356181Z"
        },
        "id": "3b565a80",
        "outputId": "8f868675-bbd1-4cfb-86b0-1e045ecd38b5",
        "papermill": {
          "duration": 0.965947,
          "end_time": "2022-04-12T00:02:24.636162",
          "exception": false,
          "start_time": "2022-04-12T00:02:23.670215",
          "status": "completed"
        },
        "tags": [],
        "colab": {
          "base_uri": "https://localhost:8080/"
        }
      },
      "outputs": [
        {
          "output_type": "stream",
          "name": "stdout",
          "text": [
            "accuracy: 0.6686807653575025\n",
            "confusion_matrix:\n",
            " [[411 586 332]\n",
            " [377 613 332]\n",
            " [374 603 344]]\n",
            "\n",
            "accuracy: 0.648539778449144\n",
            "confusion_matrix:\n",
            " [[100 157  69]\n",
            " [ 98 162  73]\n",
            " [100 148  86]]\n"
          ]
        }
      ],
      "source": [
        "x_train, x_test, y_train, y_test = train_test_split(X,Y, test_size=0.2)\n",
        "\n",
        "scaler = MinMaxScaler()\n",
        "x_train = scaler.fit_transform(x_train)\n",
        "x_test = scaler.transform(x_test)\n",
        "\n",
        "\n",
        "svc3 = SVC(C = 10, kernel='linear')\n",
        "\n",
        "svc3.fit(x_train, y_train)\n",
        "\n",
        "y_pred_train3 = svc3.predict(x_train)\n",
        "print('accuracy:', accuracy_score(y_train,y_pred_train3))\n",
        "print('confusion_matrix:\\n' , confusion_matrix(y_train,y_pred_train1))\n",
        "\n",
        "y_pred_test3 = svc3.predict(x_test)\n",
        "print('\\naccuracy:', accuracy_score(y_test,y_pred_test3))\n",
        "print('confusion_matrix:\\n' , confusion_matrix(y_test,y_pred_test1))"
      ]
    },
    {
      "cell_type": "code",
      "execution_count": 41,
      "id": "3efe4d5f",
      "metadata": {
        "execution": {
          "iopub.execute_input": "2022-04-12T00:02:24.699721Z",
          "iopub.status.busy": "2022-04-12T00:02:24.698625Z",
          "iopub.status.idle": "2022-04-12T00:02:26.419404Z",
          "shell.execute_reply": "2022-04-12T00:02:26.418719Z",
          "shell.execute_reply.started": "2022-04-11T23:59:35.289242Z"
        },
        "id": "3efe4d5f",
        "outputId": "4b8a47d4-0b68-4bfc-b81e-c08c7d43d1f6",
        "papermill": {
          "duration": 1.756486,
          "end_time": "2022-04-12T00:02:26.419551",
          "exception": false,
          "start_time": "2022-04-12T00:02:24.663065",
          "status": "completed"
        },
        "tags": [],
        "colab": {
          "base_uri": "https://localhost:8080/",
          "height": 296
        }
      },
      "outputs": [
        {
          "output_type": "stream",
          "name": "stderr",
          "text": [
            "No handles with labels found to put in legend.\n"
          ]
        },
        {
          "output_type": "display_data",
          "data": {
            "text/plain": [
              "<Figure size 432x288 with 1 Axes>"
            ],
            "image/png": "[encoded data removed]"
          },
          "metadata": {}
        }
      ],
      "source": [
        "X1 = scaler.fit_transform(X)\n",
        "\n",
        "fig, ax = plt.subplots()\n",
        "# title for the plots\n",
        "title = ('Decision surface of linear SVC with C = 10')\n",
        "# Set-up grid for plotting.\n",
        "X0, X1 = X1[:, 0], X1[:, 1]\n",
        "xx, yy = make_meshgrid(X0, X1)\n",
        "\n",
        "plot_contours(ax, svc3, xx, yy, cmap=plt.cm.coolwarm, alpha=0.8)\n",
        "ax.scatter(X0, X1, c=Y, cmap=plt.cm.coolwarm, s=20, edgecolors='k')\n",
        "ax.set_ylabel('y label here')\n",
        "ax.set_xlabel('x label here')\n",
        "ax.set_xticks(())\n",
        "ax.set_yticks(())\n",
        "ax.set_title(title)\n",
        "ax.legend()\n",
        "plt.show()"
      ]
    },
    {
      "cell_type": "code",
      "execution_count": 41,
      "id": "129c99d2",
      "metadata": {
        "id": "129c99d2",
        "papermill": {
          "duration": 0.028228,
          "end_time": "2022-04-12T00:02:26.476715",
          "exception": false,
          "start_time": "2022-04-12T00:02:26.448487",
          "status": "completed"
        },
        "tags": []
      },
      "outputs": [],
      "source": [
        ""
      ]
    }
  ],
  "metadata": {
    "kernelspec": {
      "display_name": "Python 3",
      "language": "python",
      "name": "python3"
    },
    "language_info": {
      "codemirror_mode": {
        "name": "ipython",
        "version": 3
      },
      "file_extension": ".py",
      "mimetype": "text/x-python",
      "name": "python",
      "nbconvert_exporter": "python",
      "pygments_lexer": "ipython3",
      "version": "3.7.12"
    },
    "papermill": {
      "default_parameters": {},
      "duration": 22.069547,
      "end_time": "2022-04-12T00:02:27.314937",
      "environment_variables": {},
      "exception": null,
      "input_path": "__notebook__.ipynb",
      "output_path": "__notebook__.ipynb",
      "parameters": {},
      "start_time": "2022-04-12T00:02:05.245390",
      "version": "2.3.3"
    },
    "colab": {
      "name": "Lab3.ipynb",
      "provenance": [],
      "include_colab_link": true
    }
  },
  "nbformat": 4,
  "nbformat_minor": 5
}