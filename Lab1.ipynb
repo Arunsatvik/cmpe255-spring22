{
  "nbformat": 4,
  "nbformat_minor": 0,
  "metadata": {
    "colab": {
      "name": "Lab1.ipynb",
      "provenance": [],
      "authorship_tag": "ABX9TyPm8ajyYVBugaWomNzYG5xs",
      "include_colab_link": true
    },
    "kernelspec": {
      "name": "python3",
      "display_name": "Python 3"
    },
    "language_info": {
      "name": "python"
    }
  },
  "cells": [
    {
      "cell_type": "markdown",
      "metadata": {
        "id": "view-in-github",
        "colab_type": "text"
      },
      "source": [
        "<a href=\"https://colab.research.google.com/github/Arunsatvik/cmpe255-spring22/blob/main/Lab1.ipynb\" target=\"_parent\"><img src=\"https://colab.research.google.com/assets/colab-badge.svg\" alt=\"Open In Colab\"/></a>"
      ]
    },
    {
      "cell_type": "code",
      "execution_count": 8,
      "metadata": {
        "colab": {
          "base_uri": "https://localhost:8080/",
          "height": 1000
        },
        "id": "I7I6A2DB7Ho6",
        "outputId": "4adec4c5-b716-4326-d951-48f0c2c2722b"
      },
      "outputs": [
        {
          "output_type": "stream",
          "name": "stdout",
          "text": [
            "   order_id  ...  item_price\n",
            "0         1  ...      $2.39 \n",
            "1         1  ...      $3.39 \n",
            "2         1  ...      $3.39 \n",
            "3         1  ...      $2.39 \n",
            "4         2  ...     $16.98 \n",
            "5         3  ...     $10.98 \n",
            "6         3  ...      $1.69 \n",
            "7         4  ...     $11.75 \n",
            "8         4  ...      $9.25 \n",
            "9         5  ...      $9.25 \n",
            "\n",
            "[10 rows x 5 columns]\n",
            "\n",
            "\n",
            "4622\n",
            "\n",
            "\n",
            "<class 'pandas.core.frame.DataFrame'>\n",
            "RangeIndex: 4622 entries, 0 to 4621\n",
            "Data columns (total 5 columns):\n",
            " #   Column              Non-Null Count  Dtype \n",
            "---  ------              --------------  ----- \n",
            " 0   order_id            4622 non-null   int64 \n",
            " 1   quantity            4622 non-null   int64 \n",
            " 2   item_name           4622 non-null   object\n",
            " 3   choice_description  3376 non-null   object\n",
            " 4   item_price          4622 non-null   object\n",
            "dtypes: int64(2), object(3)\n",
            "memory usage: 180.7+ KB\n",
            "None\n",
            "\n",
            "\n",
            "4972\n",
            "\n",
            "\n"
          ]
        },
        {
          "output_type": "display_data",
          "data": {
            "image/png": "[encoded data removed]",
            "text/plain": [
              "<Figure size 432x288 with 1 Axes>"
            ]
          },
          "metadata": {
            "needs_background": "light"
          }
        },
        {
          "output_type": "stream",
          "name": "stdout",
          "text": [
            "          quantity  item_price\n",
            "order_id                      \n",
            "1                4       11.56\n",
            "2                2       16.98\n",
            "3                2       12.67\n",
            "4                2       21.00\n",
            "5                2       13.70\n"
          ]
        },
        {
          "output_type": "display_data",
          "data": {
            "image/png": "[encoded data removed]",
            "text/plain": [
              "<Figure size 432x288 with 1 Axes>"
            ]
          },
          "metadata": {
            "needs_background": "light"
          }
        }
      ],
      "source": [
        "import pandas as pd\n",
        "import numpy as np\n",
        "import matplotlib.pyplot as plt\n",
        "\n",
        "\n",
        "class Solution:\n",
        "    def __init__(self) -> None:\n",
        "        self.chipo = pd.read_csv('/content/chipotle.tsv',sep='\\t')\n",
        "\n",
        "    \n",
        "    def top_x(self, count) -> None:\n",
        "        # Top x number of entries from the dataset and display as markdown format.\n",
        "        top_x = self.chipo.head(count)\n",
        "        print(top_x)\n",
        "        print('\\n')\n",
        "        \n",
        "    def count(self) -> int:\n",
        "        # The number of observations/entries in the dataset.\n",
        "        return self.chipo.shape[0]\n",
        "    \n",
        "    def info(self) -> None:\n",
        "        print(self.chipo.info())\n",
        "        print('\\n')\n",
        "    \n",
        "    def num_column(self) -> int:\n",
        "        # return the number of columns in the dataset\n",
        "        return self.chipo.shape[1]\n",
        "    \n",
        "    def print_columns(self) -> None:\n",
        "        # Print the name of all the columns.\n",
        "        print(self.chipo.columns)\n",
        "    \n",
        "    def most_ordered_item(self):\n",
        "        \n",
        "        moi = self.chipo.groupby(['item_name'],as_index = False).agg({'quantity' : 'sum',\n",
        "                     'order_id' : lambda x: x.iloc[-1]})\n",
        "        moi = moi.sort_values(by=['quantity'], ascending = False)\n",
        "        item_name = moi.iloc[0][0]\n",
        "        order_id = moi.iloc[0][2]\n",
        "        quantity = moi.iloc[0][1]\n",
        "        return item_name, order_id, quantity\n",
        "\n",
        "\n",
        "    \n",
        "    def total_item_orders(self) -> int:\n",
        "        total = self.chipo.quantity.sum()\n",
        "        print(total)\n",
        "        print('\\n')\n",
        "        return float(total)\n",
        "    \n",
        "    \n",
        "    def total_sales(self) -> float:\n",
        "        # TODO \n",
        "        # 1. Create a lambda function to change all item prices to float.\n",
        "        # 2. Calculate total sales.\n",
        "        self.chipo[\"item_price\"] = self.chipo[\"item_price\"].str[1:]\n",
        "        self.chipo[\"item_price\"] = self.chipo[\"item_price\"].apply(lambda row: float(row))\n",
        "        total = self.chipo[\"item_price\"].sum()\n",
        "        total = \"{:.2f}\".format(total)\n",
        "        return float(total)\n",
        "    \n",
        "    def num_orders(self) -> int:\n",
        "        # TODO\n",
        "        # How many orders were made in the dataset?\n",
        "        num = len(pd.unique(self.chipo['order_id']))\n",
        "        return num\n",
        "    \n",
        "    \n",
        "    def average_sales_amount_per_order(self) -> float:\n",
        "        # TODO\n",
        "        total = self.chipo[\"item_price\"].sum()\n",
        "        num = len(pd.unique(self.chipo['order_id']))\n",
        "        avg = total/num\n",
        "        avg = \"{:.2f}\".format(avg)\n",
        "        return float(avg)\n",
        "    \n",
        "    \n",
        "    def num_different_items_sold(self) -> int:\n",
        "        # How many different items are sold?\n",
        "        return self.chipo.item_name.nunique()\n",
        "    \n",
        "    def plot_histogram_top_x_popular_items(self, x:int) -> None:\n",
        "        # 1. convert the dictionary to a DataFrame\n",
        "        # 2. sort the values from the top to the least value and slice the first 5 items\n",
        "        # 3. create a 'bar' plot from the DataFrame\n",
        "        # 4. set the title and labels:\n",
        "        #     x: Items\n",
        "        #     y: Number of Orders\n",
        "        #     title: Most popular items\n",
        "        # 5. show the plot. Hint: plt.show(block=True).\n",
        "        \n",
        "        ht = self.chipo.groupby([\"item_name\"],as_index = False).sum([\"quantity\"])\n",
        "        ht = ht.sort_values(by=['quantity'], ascending = False).head(5)\n",
        "        x = ht['item_name']\n",
        "        y = ht['quantity']\n",
        "        plt.bar(x, y, color ='maroon',width = 0.4)\n",
        "\n",
        "        plt.title(\"Most popular items\")\n",
        "        plt.xlabel(\"Items\")\n",
        "        plt.xticks(rotation=45)\n",
        "        plt.ylabel(\"Number of Orders\")\n",
        "        plt.show()\n",
        "        \n",
        "    def scatter_plot_num_items_per_order_price(self) -> None:\n",
        "        # 1. create a list of prices by removing dollar sign and trailing space.\n",
        "        # 2. groupby the orders and sum it.\n",
        "        # 3. create a scatter plot:\n",
        "        #       x: orders' item price\n",
        "        #       y: orders' quantity\n",
        "        #       s: 50\n",
        "        #       c: blue\n",
        "        # 4. set the title and labels.\n",
        "        #       title: Numer of items per order price\n",
        "        #       x: Order Price\n",
        "        #       y: Num Items\n",
        "        \n",
        "        temp = self.chipo.groupby(\"order_id\").sum()\n",
        "        print(temp.head(5))\n",
        "        \n",
        "        x = temp['item_price']\n",
        "        y = temp['quantity']\n",
        "        plt.scatter(x, y, s=50, c=\"blue\", alpha=0.2)\n",
        "        plt.title('Numer of items per order price')\n",
        "        plt.xlabel('Order Price')\n",
        "        plt.ylabel('Num Items')\n",
        "        plt.show()\n",
        "\n",
        "\n",
        "\n",
        "def test() -> None:\n",
        "    solution = Solution()\n",
        "    solution.top_x(10)\n",
        "    count = solution.count()\n",
        "    print(count)\n",
        "    print('\\n')\n",
        "    assert count == 4622\n",
        "    solution.info()\n",
        "    count = solution.num_column()\n",
        "    assert count == 5\n",
        "    item_name, order_id, quantity = solution.most_ordered_item()\n",
        "    assert item_name == 'Chicken Bowl'\n",
        "    assert order_id == 1828\n",
        "    assert quantity == 761\n",
        "    total = solution.total_item_orders()\n",
        "    assert total == 4972    \n",
        "    assert 34500.16 == solution.total_sales()\n",
        "    assert 1834 == solution.num_orders()\n",
        "    assert 18.81 == solution.average_sales_amount_per_order()\n",
        "    assert 50 == solution.num_different_items_sold()\n",
        "    solution.plot_histogram_top_x_popular_items(5)\n",
        "    solution.scatter_plot_num_items_per_order_price()\n",
        "\n",
        "    \n",
        "if __name__ == \"__main__\":\n",
        "    # execute only if run as a script\n",
        "    test()\n",
        "    "
      ]
    },
    {
      "cell_type": "code",
      "source": [
        ""
      ],
      "metadata": {
        "id": "53RhPHH87SUk"
      },
      "execution_count": null,
      "outputs": []
    }
  ]
}