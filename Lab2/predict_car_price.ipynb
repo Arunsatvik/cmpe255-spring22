{
  "nbformat": 4,
  "nbformat_minor": 0,
  "metadata": {
    "colab": {
      "name": "predict-car-price.ipynb",
      "provenance": [],
      "authorship_tag": "ABX9TyNOp6biMGJKyPvp8ybzPXuV",
      "include_colab_link": true
    },
    "kernelspec": {
      "name": "python3",
      "display_name": "Python 3"
    },
    "language_info": {
      "name": "python"
    }
  },
  "cells": [
    {
      "cell_type": "markdown",
      "metadata": {
        "id": "view-in-github",
        "colab_type": "text"
      },
      "source": [
        "<a href=\"https://colab.research.google.com/github/Arunsatvik/cmpe255-spring22/blob/main/Lab2/predict_car_price.ipynb\" target=\"_parent\"><img src=\"https://colab.research.google.com/assets/colab-badge.svg\" alt=\"Open In Colab\"/></a>"
      ]
    },
    {
      "cell_type": "code",
      "execution_count": 1,
      "metadata": {
        "colab": {
          "base_uri": "https://localhost:8080/"
        },
        "id": "FSj8IC2CTqD3",
        "outputId": "4cdee474-a857-44c9-ab57-47d2c095dcd9"
      },
      "outputs": [
        {
          "output_type": "stream",
          "name": "stdout",
          "text": [
            "$11914 lines loaded\n",
            "The rmse value of predicted MSRP and actual MSRP of validation set is  0.761653099130156\n",
            "The rmse value of predicted MSRP and actual MSRP of test set is  0.7359130757318697\n",
            "Let us print out first 5 cars in our Validation Set's original msrp vs. predicted msrp\n",
            "|       |   engine_cylinders | transmission_type   | driven_wheels     |   number_of_doors | market_category   | vehicle_size   | vehicle_style       |   highway_mpg |   city_mpg |   popularity |   msrp |   msrp_pred |\n",
            "|------:|-------------------:|:--------------------|:------------------|------------------:|:------------------|:---------------|:--------------------|--------------:|-----------:|-------------:|-------:|------------:|\n",
            "|  2779 |                  4 | automatic           | four_wheel_drive  |                 4 | nan               | compact        | extended_cab_pickup |            25 |         19 |         1385 |  26885 |     19203.1 |\n",
            "|  3708 |                  4 | automatic           | all_wheel_drive   |                 4 | luxury            | midsize        | sedan               |            29 |         22 |          617 |  54650 |     31891.8 |\n",
            "|  4794 |                  4 | manual              | front_wheel_drive |                 4 | flex_fuel         | compact        | sedan               |            36 |         26 |         5657 |  16775 |     16295.1 |\n",
            "| 10498 |                  6 | automatic           | front_wheel_drive |                 4 | luxury            | midsize        | sedan               |            34 |         21 |          204 |  42600 |     39663.6 |\n",
            "|  1880 |                  4 | automatic           | front_wheel_drive |                 2 | nan               | compact        | convertible         |            34 |         25 |          873 |  25995 |     17950.4 | \n",
            "\n"
          ]
        }
      ],
      "source": [
        "import pandas as pd\n",
        "import numpy as np\n",
        "\n",
        "import seaborn as sns\n",
        "from matplotlib import pyplot as plt\n",
        "\n",
        "import math\n",
        "\n",
        "class CarPrice:\n",
        "\n",
        "    def __init__(self):\n",
        "        self.df = pd.read_csv('/content/data.csv')\n",
        "        print(f'${len(self.df)} lines loaded')\n",
        "\n",
        "    def trim(self):\n",
        "        self.df.columns = self.df.columns.str.lower().str.replace(' ', '_')\n",
        "        string_columns = list(self.df.dtypes[self.df.dtypes == 'object'].index)\n",
        "        for col in string_columns:\n",
        "            self.df[col] = self.df[col].str.lower().str.replace(' ', '_')\n",
        "\n",
        "    # This function will check the rmse value between the inputted observed and predicted sets\n",
        "    def validate(self, y, y_pred):\n",
        "        error = y_pred - y\n",
        "        mse = (error ** 2).mean()\n",
        "        return np.sqrt(mse)\n",
        "        \n",
        "    # Get the linear regression parameters based on the training set\n",
        "    def linear_regression(self, X, y):\n",
        "        ones = np.ones(X.shape[0])\n",
        "        X = np.column_stack([ones, X]) #Apply a column of 1s to get bias term\n",
        "\n",
        "        XTX = X.T.dot(X)\n",
        "        XTX_inv = np.linalg.inv(XTX)\n",
        "        w = XTX_inv.dot(X.T).dot(y) #Formula to get the array of weight parameters\n",
        "    \n",
        "        return w[0], w[1:] #First term is the bias term, and afterwards is the weights for each feature\n",
        "        \n",
        "\n",
        "    # This function will prepare our df by returning a new df (in numpy array form) with only the desired features to analyze upon.\n",
        "    def prepare_X(self, input_data, base): #base should be an array of strings, where each string is a name of a column that should be in the desired list\n",
        "        df_num = input_data[base]                   #Input_data is the input data set you would like to prepare (train, validation, or test)\n",
        "        df_num = df_num.fillna(0)\n",
        "        X = df_num.values\n",
        "        return X\n",
        "\n",
        "def test() -> None:\n",
        "    carPrice = CarPrice()\n",
        "    carPrice.trim() #Trim the carPrice df to make all column names and data values (if object) into lowercase and replace all spaces with _\n",
        "    df = carPrice.df\n",
        "\n",
        "    np.random.seed(2) # Set a random seed\n",
        "    n = len(df) # n is the number of entries in the df\n",
        "    n_val = int(0.2 * n) # n_val is the number of entries in validation data set (20% of total entries)\n",
        "    n_test = int(0.2 * n) # n_test is the number of entries in validation data set (20% of total entries)\n",
        "    n_train = n - (n_val + n_test) # n_train is the number of entries in validation data set (60% of total entries)\n",
        "\n",
        "    idx = np.arange(n) # Arrange an array with same length as df entries, and indexes being the range of the array (in order)\n",
        "    np.random.shuffle(idx) # Shuffle this array \n",
        "\n",
        "    df_shuffled = df.iloc[idx] # this df_shuffled will have the entries of original df randomized now\n",
        "    \n",
        "    #Split the shuffled df into training, validation, and test sets in ratio of 60:20:20 respectively\n",
        "    df_train = df_shuffled.iloc[:n_train].copy() \n",
        "    df_val = df_shuffled.iloc[n_train:n_train+n_val].copy()\n",
        "    df_test = df_shuffled.iloc[n_train+n_val:].copy()\n",
        "\n",
        "    #Get the target variable (msrp) arrays for each set\n",
        "    y_train_orig = df_train.msrp.values\n",
        "    y_val_orig = df_val.msrp.values\n",
        "    y_test_orig = df_test.msrp.values\n",
        "\n",
        "    #Like in the demo, we will\n",
        "    #Natural log these arrays for a better distribution (new value = ln(old value + 1))\n",
        "    y_train = np.log1p(df_train.msrp.values)\n",
        "    y_val = np.log1p(df_val.msrp.values)\n",
        "    y_test = np.log1p(df_test.msrp.values)\n",
        "\n",
        "    base = ['engine_hp', 'engine_cylinders', 'highway_mpg', 'city_mpg', 'popularity'] #Like in the demo, we will select only these 5 features to be used in the linear regression model to predict MSRP\n",
        "    X_train = carPrice.prepare_X(df_train, base) #Prepare our training set so it only has the \"base\" features above and get it back in form of numpy array\n",
        "\n",
        "    #Apply linear regression function with our training to get weight parameters for linear regression line.\n",
        "    w_0, w = carPrice.linear_regression(X_train, y_train)\n",
        "\n",
        "    #Use our linear regression function to predict MSRP values on our validation set (since it was not used in training our model)\n",
        "    X_val = carPrice.prepare_X(df_val, base)\n",
        "    y_pred_val = w_0 + X_val.dot(w)\n",
        "    print(\"The rmse value of predicted MSRP and actual MSRP of validation set is \", carPrice.validate(y_val, y_pred_val))\n",
        "\n",
        "    #Use our linear regression function to predict MSRP values on our test set\n",
        "    X_test = carPrice.prepare_X(df_test, base)\n",
        "    y_pred_test = w_0 + X_test.dot(w)\n",
        "    print(\"The rmse value of predicted MSRP and actual MSRP of test set is \", carPrice.validate(y_test, y_pred_test))\n",
        "\n",
        "    #Now, let us print the desired output for lab2 for the Validation Set\n",
        "\n",
        "    #Convert the predicted MSRP of validation and test set back to their original values (reverse the ln function)\n",
        "    y_pred_MSRP_val = np.expm1(y_pred_val) # expm1 calculates exp(x) - 1\n",
        "    \n",
        "    df_val['msrp_pred'] = y_pred_MSRP_val # Add the column\n",
        "    \n",
        "    print(\"Let us print out first 5 cars in our Validation Set's original msrp vs. predicted msrp\")\n",
        "    print(df_val.iloc[:,5:].head().to_markdown(), \"\\n\")\n",
        "\n",
        "\n",
        "if __name__ == \"__main__\":\n",
        "    # execute only if run as a script\n",
        "    test()"
      ]
    },
    {
      "cell_type": "code",
      "source": [
        ""
      ],
      "metadata": {
        "id": "YMxCMoKKT7ii"
      },
      "execution_count": null,
      "outputs": []
    }
  ]
}